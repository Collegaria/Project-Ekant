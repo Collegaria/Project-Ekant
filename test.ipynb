{
 "cells": [
  {
   "cell_type": "code",
   "execution_count": null,
   "metadata": {},
   "outputs": [],
   "source": [
    "import IPython\n",
    "from scipy.io import wavfile\n",
    "import noisereduce as nr\n",
    "import soundfile as sf\n",
    "from noisereduce.generate_noise import band_limited_noise\n",
    "import matplotlib.pyplot as plt\n",
    "import urllib.request\n",
    "import numpy as np\n",
    "import io"
   ]
  },
  {
   "cell_type": "code",
   "execution_count": null,
   "metadata": {},
   "outputs": [],
   "source": [
    "\n",
    "data, rate = sf.read(\"audios/Wherever.wav\")\n",
    "data = data"
   ]
  },
  {
   "cell_type": "code",
   "execution_count": null,
   "metadata": {},
   "outputs": [],
   "source": [
    "IPython.display.Audio(data=data.T, rate=rate)"
   ]
  },
  {
   "cell_type": "code",
   "execution_count": null,
   "metadata": {},
   "outputs": [],
   "source": [
    "fig, ax = plt.subplots(figsize=(20,3))\n",
    "ax.plot(data)"
   ]
  },
  {
   "cell_type": "code",
   "execution_count": null,
   "metadata": {},
   "outputs": [],
   "source": [
    "reduced_noise = nr.reduce_noise(y = data.T, sr=rate, n_std_thresh_stationary=1.5,stationary=True)"
   ]
  },
  {
   "cell_type": "code",
   "execution_count": null,
   "metadata": {},
   "outputs": [],
   "source": [
    "IPython.display.Audio(data=reduced_noise, rate=rate)"
   ]
  },
  {
   "cell_type": "code",
   "execution_count": null,
   "metadata": {},
   "outputs": [],
   "source": [
    "reduced_noiser = nr.reduce_noise(y = data.T, sr=rate, thresh_n_mult_nonstationary=2,stationary=False)"
   ]
  },
  {
   "cell_type": "code",
   "execution_count": 81,
   "metadata": {},
   "outputs": [
    {
     "name": "stderr",
     "output_type": "stream",
     "text": [
      "Exception ignored in: <function TransformNode.set_children.<locals>.<lambda> at 0x7f3847104b80>\n",
      "Traceback (most recent call last):\n",
      "  File \"/home/midnight/Documents/Notez_Clg/Disrupt/Project-Ekant/env/lib64/python3.9/site-packages/matplotlib/transforms.py\", line 209, in <lambda>\n",
      "    self, lambda _, pop=child._parents.pop, k=id(self): pop(k))\n",
      "KeyboardInterrupt: \n"
     ]
    }
   ],
   "source": [
    "fig, ax = plt.subplots(figsize=(20,3))\n",
    "ax.plot(reduced_noiser, alpha = 1)\n",
    "IPython.display.Audio(data=reduced_noiser, rate=rate)"
   ]
  },
  {
   "cell_type": "code",
   "execution_count": null,
   "metadata": {},
   "outputs": [],
   "source": [
    "IPython.display.Audio(data=reduced_noiser, rate=rate)\n",
    "#wavfile.write(\"Wherever_reduced_noise.wav\", rate, reduced_noise.T)"
   ]
  }
 ],
 "metadata": {
  "kernelspec": {
   "display_name": "env",
   "language": "python",
   "name": "python3"
  },
  "language_info": {
   "codemirror_mode": {
    "name": "ipython",
    "version": 3
   },
   "file_extension": ".py",
   "mimetype": "text/x-python",
   "name": "python",
   "nbconvert_exporter": "python",
   "pygments_lexer": "ipython3",
   "version": "3.9.16 (main, Dec  7 2022, 00:00:00) \n[GCC 12.2.1 20221121 (Red Hat 12.2.1-4)]"
  },
  "orig_nbformat": 4,
  "vscode": {
   "interpreter": {
    "hash": "b18a5b9be95950de0e06074a2daf5c5ddf7c196bf820d77c3d1ededa0cb62dae"
   }
  }
 },
 "nbformat": 4,
 "nbformat_minor": 2
}
